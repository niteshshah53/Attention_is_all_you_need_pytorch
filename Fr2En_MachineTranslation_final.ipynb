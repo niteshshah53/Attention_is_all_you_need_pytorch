{
 "cells": [
  {
   "cell_type": "code",
   "execution_count": 4,
   "metadata": {
    "ExecuteTime": {
     "end_time": "2020-08-05T05:21:22.206336Z",
     "start_time": "2020-08-05T05:21:21.901608Z"
    },
    "init_cell": true
   },
   "outputs": [
    {
     "name": "stdout",
     "output_type": "stream",
     "text": [
      "The autoreload extension is already loaded. To reload it, use:\n",
      "  %reload_ext autoreload\n"
     ]
    },
    {
     "data": {
      "application/javascript": [
       "IPython.notebook.set_autosave_interval(2000)"
      ]
     },
     "metadata": {},
     "output_type": "display_data"
    },
    {
     "name": "stdout",
     "output_type": "stream",
     "text": [
      "Autosaving every 2 seconds\n"
     ]
    },
    {
     "data": {
      "text/html": [
       "<style>.container { width:100% !important; }</style>"
      ],
      "text/plain": [
       "<IPython.core.display.HTML object>"
      ]
     },
     "metadata": {},
     "output_type": "display_data"
    },
    {
     "name": "stdout",
     "output_type": "stream",
     "text": [
      "cuda\n"
     ]
    }
   ],
   "source": [
    "%load_ext autoreload\n",
    "%autoreload 2\n",
    "%autosave 2\n",
    "\n",
    "\n",
    "from IPython.core.display import display, HTML\n",
    "display(HTML(\"<style>.container { width:100% !important; }</style>\"))\n",
    "\n",
    "from tqdm.notebook import tqdm\n",
    "import numpy as np\n",
    "from fastai.text import *\n",
    "from modules.callbacks import *\n",
    "from pathlib2 import Path\n",
    "import pickle\n",
    "import torch\n",
    "import torch.nn as nn\n",
    "import torch.nn.functional as F\n",
    "from torch.nn.utils.rnn import pack_padded_sequence\n",
    "from fastai.callbacks import lr_finder, SaveModelCallback, EarlyStoppingCallback,ReduceLROnPlateauCallback\n",
    "import math, copy, time\n",
    "from torch.autograd import Variable\n",
    "import matplotlib.pyplot as plt\n",
    "import seaborn\n",
    "seaborn.set_context(context=\"talk\")\n",
    "from modules.model import *\n",
    "\n",
    "defaults.device = torch.device('cuda')\n",
    "#CUDA_VISIBLE_DEVICES=\"\"\n",
    "device =  torch.device(\"cuda\" if torch.cuda.is_available() else \"cpu\")\n",
    "print(device)"
   ]
  },
  {
   "cell_type": "markdown",
   "metadata": {},
   "source": [
    "## Data Preparation"
   ]
  },
  {
   "cell_type": "markdown",
   "metadata": {},
   "source": [
    "### Download Data (Freanch English Sentence Pairs)"
   ]
  },
  {
   "cell_type": "code",
   "execution_count": 10,
   "metadata": {
    "ExecuteTime": {
     "end_time": "2020-08-04T17:09:32.220746Z",
     "start_time": "2020-08-04T17:09:32.199636Z"
    }
   },
   "outputs": [],
   "source": [
    "path = Config().data_path()"
   ]
  },
  {
   "cell_type": "code",
   "execution_count": null,
   "metadata": {
    "ExecuteTime": {
     "start_time": "2020-08-04T17:10:41.790Z"
    }
   },
   "outputs": [
    {
     "name": "stdout",
     "output_type": "stream",
     "text": [
      "--2020-08-04 22:40:41--  https://s3.amazonaws.com/fast-ai-nlp/giga-fren.tgz\n",
      "Resolving s3.amazonaws.com (s3.amazonaws.com)... 52.216.250.46\n",
      "Connecting to s3.amazonaws.com (s3.amazonaws.com)|52.216.250.46|:443... connected.\n",
      "HTTP request sent, awaiting response... 200 OK\n",
      "Length: 2598183296 (2.4G) [application/x-tar]\n",
      "Saving to: ‘/home/santhosh/.fastai/data/giga-fren.tgz.1’\n",
      "\n",
      "giga-fren.tgz.1       2%[                    ]  59.94M  29.9KB/s    eta 7h 11m "
     ]
    }
   ],
   "source": [
    "! wget https://s3.amazonaws.com/fast-ai-nlp/giga-fren.tgz -P {path}"
   ]
  },
  {
   "cell_type": "code",
   "execution_count": null,
   "metadata": {},
   "outputs": [],
   "source": [
    "# ! tar xf {path}/giga-fren.tgz -C {path} "
   ]
  },
  {
   "cell_type": "code",
   "execution_count": null,
   "metadata": {},
   "outputs": [],
   "source": [
    "path = Config().data_path()/'giga-fren'\n",
    "path.ls()"
   ]
  },
  {
   "cell_type": "markdown",
   "metadata": {},
   "source": [
    "### Load DataSets"
   ]
  },
  {
   "cell_type": "code",
   "execution_count": null,
   "metadata": {},
   "outputs": [],
   "source": [
    "# with open(path/'giga-fren.release2.fixed.fr') as f: fr = f.read().split('\\n')\n",
    "# with open(path/'giga-fren.release2.fixed.en') as f: en = f.read().split('\\n')"
   ]
  },
  {
   "cell_type": "markdown",
   "metadata": {},
   "source": [
    "### Filter Question pairs"
   ]
  },
  {
   "cell_type": "markdown",
   "metadata": {},
   "source": [
    "We will use regex to pick out questions by finding the strings in the English dataset that start with \"Wh\" and end with a question mark."
   ]
  },
  {
   "cell_type": "code",
   "execution_count": null,
   "metadata": {},
   "outputs": [],
   "source": [
    "re_eq = re.compile('^(Wh[^?.!]+\\?)')\n",
    "re_fq = re.compile('^([^?.!]+\\?)')\n",
    "en_fname = path/'giga-fren.release2.fixed.en'\n",
    "fr_fname = path/'giga-fren.release2.fixed.fr'"
   ]
  },
  {
   "cell_type": "code",
   "execution_count": null,
   "metadata": {},
   "outputs": [],
   "source": [
    "lines = ((re_eq.search(eq), re_fq.search(fq)) \n",
    "        for eq, fq in zip(open(en_fname, encoding='utf-8'), open(fr_fname, encoding='utf-8')))\n",
    "qs = [(e.group(), f.group()) for e,f in lines if e and f]"
   ]
  },
  {
   "cell_type": "code",
   "execution_count": null,
   "metadata": {},
   "outputs": [],
   "source": [
    "qs = [(q1,q2) for q1,q2 in qs]\n",
    "df = pd.DataFrame({'fr': [q[1] for q in qs], 'en': [q[0] for q in qs]}, columns = ['en', 'fr'])\n",
    "df.to_csv(path/'questions_easy.csv', index=False)"
   ]
  },
  {
   "cell_type": "code",
   "execution_count": 5,
   "metadata": {
    "ExecuteTime": {
     "end_time": "2020-08-05T05:21:22.250818Z",
     "start_time": "2020-08-05T05:21:22.208172Z"
    },
    "init_cell": true
   },
   "outputs": [],
   "source": [
    "## Writing processed data into pickle file\n",
    "\n",
    "#pickle.dump(qs, open('fr-2-en-data/fr-en-qs.pkl','wb'))\n",
    "qs = pickle.load(open('fr-2-en-data/fr-en-qs.pkl','rb'))\n",
    "\n",
    "en_qs,fr_qs = zip(*qs)"
   ]
  },
  {
   "cell_type": "code",
   "execution_count": 6,
   "metadata": {
    "ExecuteTime": {
     "end_time": "2020-08-05T05:21:22.358553Z",
     "start_time": "2020-08-05T05:21:22.251954Z"
    },
    "init_cell": true
   },
   "outputs": [],
   "source": [
    "path = Path()"
   ]
  },
  {
   "cell_type": "code",
   "execution_count": 7,
   "metadata": {
    "ExecuteTime": {
     "end_time": "2020-08-05T05:21:22.684955Z",
     "start_time": "2020-08-05T05:21:22.360184Z"
    },
    "init_cell": true
   },
   "outputs": [],
   "source": [
    "en_tok = pickle.load((path/'fr-2-en-data/en_tok.pkl').open('rb'))\n",
    "fr_tok = pickle.load((path/'fr-2-en-data/fr_tok.pkl').open('rb'))"
   ]
  },
  {
   "cell_type": "code",
   "execution_count": 8,
   "metadata": {
    "ExecuteTime": {
     "end_time": "2020-08-05T05:21:22.700848Z",
     "start_time": "2020-08-05T05:21:22.685957Z"
    },
    "init_cell": true
   },
   "outputs": [],
   "source": [
    "TMP_PATH = path/'fr-2-en-data/tmp/'\n",
    "\n",
    "def load_ids(pre):\n",
    "    ids = np.load(TMP_PATH/f'{pre}_ids.npy',allow_pickle=True)\n",
    "    itos = pickle.load(open(TMP_PATH/f'{pre}_itos.pkl', 'rb'))\n",
    "    stoi = collections.defaultdict(lambda: 3, {v:k for k,v in enumerate(itos)})\n",
    "    return ids,itos,stoi"
   ]
  },
  {
   "cell_type": "code",
   "execution_count": 9,
   "metadata": {
    "ExecuteTime": {
     "end_time": "2020-08-05T05:21:22.978144Z",
     "start_time": "2020-08-05T05:21:22.701682Z"
    },
    "init_cell": true
   },
   "outputs": [],
   "source": [
    "en_ids,en_itos,en_stoi = load_ids('en')\n",
    "fr_ids,fr_itos,fr_stoi = load_ids('fr')"
   ]
  },
  {
   "cell_type": "markdown",
   "metadata": {},
   "source": [
    "## Fastai's Data Bunch"
   ]
  },
  {
   "cell_type": "markdown",
   "metadata": {},
   "source": [
    "Creating a function that collects batch of x,y pairs fills padding"
   ]
  },
  {
   "cell_type": "code",
   "execution_count": 10,
   "metadata": {
    "ExecuteTime": {
     "end_time": "2020-08-05T05:21:22.999174Z",
     "start_time": "2020-08-05T05:21:22.979649Z"
    },
    "init_cell": true
   },
   "outputs": [],
   "source": [
    "def seq2seq_collate(samples, pad_idx=1, pad_first=True, backwards=False):\n",
    "    \n",
    "    # unpack samples to tuples\n",
    "    samples = to_data(samples)\n",
    "    \n",
    "    # find max len of x, y batch wihich decides inp seq length\n",
    "    max_len_x,max_len_y = max([len(s[0]) for s in samples]),max([len(s[1]) for s in samples])\n",
    "    \n",
    "    max_len = max(max_len_x,max_len_y)\n",
    "    \n",
    "    # create a dummy tensor of height batch_size and width max_len with padded value\n",
    "    res_x = torch.zeros(len(samples), max_len).long() + pad_idx\n",
    "    res_y = torch.zeros(len(samples), max_len).long() + pad_idx\n",
    "    \n",
    "    # if backwards activate reverse mode used in bi-directional   \n",
    "    if backwards: pad_first = not pad_first\n",
    "    \n",
    "    # fill vocabulary with word indices\n",
    "    for i,s in enumerate(samples):\n",
    "        if pad_first: \n",
    "            res_x[i,-len(s[0]):],res_y[i,-len(s[1]):] = LongTensor(s[0]),LongTensor(s[1])\n",
    "        else:         \n",
    "            res_x[i, :len(s[0])],res_y[i, :len(s[1])] = LongTensor(s[0]),LongTensor(s[1])\n",
    "    \n",
    "    # flip backward if backwards = True\n",
    "    if backwards: res_x,res_y = res_x.flip(1),res_y.flip(1)\n",
    "        \n",
    "    res_x_mask = (res_x != pad_idx).unsqueeze(-2)\n",
    "    res_y_mask = None\n",
    "    \n",
    "    # target mask creation\n",
    "    if res_y is not None:\n",
    "        dec_y = res_y[:, :-1]\n",
    "        tar_y = res_y[:, 1:]\n",
    "        decode_lengths = torch.tensor([len(s[1]) for s in samples])-1\n",
    "    return (res_x[:,1:],dec_y,decode_lengths), tar_y"
   ]
  },
  {
   "cell_type": "markdown",
   "metadata": {},
   "source": [
    "Creates a Text databunch object with "
   ]
  },
  {
   "cell_type": "code",
   "execution_count": 11,
   "metadata": {
    "ExecuteTime": {
     "end_time": "2020-08-05T05:21:23.110947Z",
     "start_time": "2020-08-05T05:21:23.000287Z"
    },
    "init_cell": true
   },
   "outputs": [],
   "source": [
    "class Seq2SeqDataBunch(TextDataBunch):\n",
    "    \" decorator adds following method additionally to base class 'TextDataBunch\"\n",
    "    \n",
    "    ## Class method of Seq2SeqDataBunch (inherited from TextDataBunch) \n",
    "    @classmethod\n",
    "    def create(cls, train_ds, valid_ds, test_ds=None, path:PathOrStr='.', bs:int=8, val_bs:int=None, pad_idx=1,\n",
    "               dl_tfms=None, pad_first=False, device:torch.device=device, no_check=True, backwards:bool=False, **dl_kwargs)-> DataBunch:\n",
    "        \n",
    "        \"Function takes pytorch dataset object transforms into 'databunch' for classification and cls will allow to access parent class methods just  like 'self'\"\n",
    "        \n",
    "        # store dataset obj into list\n",
    "        datasets = cls._init_ds(train_ds,valid_ds,test_ds)\n",
    "        val_bs = ifnone(val_bs, bs) #returns val_bs if none bs\n",
    "        \n",
    "        # stores raw seq of unequal len into tensor with padding\n",
    "        # below function takes batches output from Dataloader returns padded tensor\n",
    "        collate_fn = partial(seq2seq_collate, pad_idx=pad_idx, pad_first=pad_first, backwards=backwards)\n",
    "        \n",
    "        #sampler function: generater takes dataset then sorts and returns sorted indices    \n",
    "        train_sampler = SortishSampler(datasets[0].x, key=lambda t: len(datasets[0][t][0].data), bs=bs//2)\n",
    "        \n",
    "        # train data loader obj with Sortish sampler(sort with some randomness)\n",
    "        train_dl = DataLoader(datasets[0], batch_size=bs, sampler=train_sampler, drop_last=True, **dl_kwargs)\n",
    "        dataloaders = [train_dl]\n",
    "        \n",
    "        # other dataloaders with pure sorting append into dataloaders list\n",
    "        for ds in datasets[1:]:\n",
    "            lengths = [len(t) for t in ds.x.items]\n",
    "            sampler = SortSampler(ds.x, key = lengths.__getitem__)\n",
    "            dataloaders.append(DataLoader(ds,batch_size=val_bs,\n",
    "                                          sampler = sampler,**dl_kwargs))\n",
    "        \n",
    "        return cls(*dataloaders, path = path, device = device, collate_fn=collate_fn, no_check = no_check)"
   ]
  },
  {
   "cell_type": "code",
   "execution_count": 12,
   "metadata": {
    "ExecuteTime": {
     "end_time": "2020-08-05T05:21:23.250304Z",
     "start_time": "2020-08-05T05:21:23.112353Z"
    },
    "init_cell": true
   },
   "outputs": [],
   "source": [
    "class Seq2SeqTextList(TextList):\n",
    "    _bunch = Seq2SeqDataBunch\n",
    "    _label_cls = TextList"
   ]
  },
  {
   "cell_type": "code",
   "execution_count": 13,
   "metadata": {
    "ExecuteTime": {
     "end_time": "2020-08-05T05:21:23.439889Z",
     "start_time": "2020-08-05T05:21:23.251739Z"
    },
    "init_cell": true
   },
   "outputs": [
    {
     "data": {
      "text/html": [
       "<style>.container { width:100% !important; }</style>"
      ],
      "text/plain": [
       "<IPython.core.display.HTML object>"
      ]
     },
     "metadata": {},
     "output_type": "display_data"
    }
   ],
   "source": [
    "from IPython.core.display import display, HTML\n",
    "display(HTML(\"<style>.container { width:100% !important; }</style>\"))\n",
    "\n",
    "pd.set_option('display.width', 10000)\n",
    "pd.set_option('display.expand_frame_repr', True)\n",
    "\n",
    "\n",
    "data = pd.DataFrame(qs, columns=['en', 'fr'])"
   ]
  },
  {
   "cell_type": "code",
   "execution_count": 21,
   "metadata": {
    "ExecuteTime": {
     "end_time": "2020-05-21T05:45:35.652983Z",
     "start_time": "2020-05-21T05:45:35.625698Z"
    }
   },
   "outputs": [
    {
     "data": {
      "text/html": [
       "<style  type=\"text/css\" >\n",
       "    #T_14c8d186_cfe1_11ea_a8bb_2b7a2f75b857row0_col0 {\n",
       "            width:  300px;\n",
       "        }    #T_14c8d186_cfe1_11ea_a8bb_2b7a2f75b857row0_col1 {\n",
       "            width:  300px;\n",
       "        }    #T_14c8d186_cfe1_11ea_a8bb_2b7a2f75b857row1_col0 {\n",
       "            width:  300px;\n",
       "        }    #T_14c8d186_cfe1_11ea_a8bb_2b7a2f75b857row1_col1 {\n",
       "            width:  300px;\n",
       "        }    #T_14c8d186_cfe1_11ea_a8bb_2b7a2f75b857row2_col0 {\n",
       "            width:  300px;\n",
       "        }    #T_14c8d186_cfe1_11ea_a8bb_2b7a2f75b857row2_col1 {\n",
       "            width:  300px;\n",
       "        }    #T_14c8d186_cfe1_11ea_a8bb_2b7a2f75b857row3_col0 {\n",
       "            width:  300px;\n",
       "        }    #T_14c8d186_cfe1_11ea_a8bb_2b7a2f75b857row3_col1 {\n",
       "            width:  300px;\n",
       "        }    #T_14c8d186_cfe1_11ea_a8bb_2b7a2f75b857row4_col0 {\n",
       "            width:  300px;\n",
       "        }    #T_14c8d186_cfe1_11ea_a8bb_2b7a2f75b857row4_col1 {\n",
       "            width:  300px;\n",
       "        }</style><table id=\"T_14c8d186_cfe1_11ea_a8bb_2b7a2f75b857\" ><thead>    <tr>        <th class=\"blank level0\" ></th>        <th class=\"col_heading level0 col0\" >fr</th>        <th class=\"col_heading level0 col1\" >en</th>    </tr></thead><tbody>\n",
       "                <tr>\n",
       "                        <th id=\"T_14c8d186_cfe1_11ea_a8bb_2b7a2f75b857level0_row0\" class=\"row_heading level0 row0\" >10557</th>\n",
       "                        <td id=\"T_14c8d186_cfe1_11ea_a8bb_2b7a2f75b857row0_col0\" class=\"data row0 col0\" >Quelle information devrait être fournie?</td>\n",
       "                        <td id=\"T_14c8d186_cfe1_11ea_a8bb_2b7a2f75b857row0_col1\" class=\"data row0 col1\" >What information should be provided?</td>\n",
       "            </tr>\n",
       "            <tr>\n",
       "                        <th id=\"T_14c8d186_cfe1_11ea_a8bb_2b7a2f75b857level0_row1\" class=\"row_heading level0 row1\" >5641</th>\n",
       "                        <td id=\"T_14c8d186_cfe1_11ea_a8bb_2b7a2f75b857row1_col0\" class=\"data row1 col0\" >Qu'est qu'un emploi?</td>\n",
       "                        <td id=\"T_14c8d186_cfe1_11ea_a8bb_2b7a2f75b857row1_col1\" class=\"data row1 col1\" >What is a job?</td>\n",
       "            </tr>\n",
       "            <tr>\n",
       "                        <th id=\"T_14c8d186_cfe1_11ea_a8bb_2b7a2f75b857level0_row2\" class=\"row_heading level0 row2\" >29027</th>\n",
       "                        <td id=\"T_14c8d186_cfe1_11ea_a8bb_2b7a2f75b857row2_col0\" class=\"data row2 col0\" >Qu'attendez-vous de la nouvelle structure ?</td>\n",
       "                        <td id=\"T_14c8d186_cfe1_11ea_a8bb_2b7a2f75b857row2_col1\" class=\"data row2 col1\" >What are your expectations from the newly established structure?</td>\n",
       "            </tr>\n",
       "            <tr>\n",
       "                        <th id=\"T_14c8d186_cfe1_11ea_a8bb_2b7a2f75b857level0_row3\" class=\"row_heading level0 row3\" >22777</th>\n",
       "                        <td id=\"T_14c8d186_cfe1_11ea_a8bb_2b7a2f75b857row3_col0\" class=\"data row3 col0\" >Quel est le meilleur résultat que vous puissiez obtenir de ce contrat?</td>\n",
       "                        <td id=\"T_14c8d186_cfe1_11ea_a8bb_2b7a2f75b857row3_col1\" class=\"data row3 col1\" >What is the best result that can be obtained from this agreement?</td>\n",
       "            </tr>\n",
       "            <tr>\n",
       "                        <th id=\"T_14c8d186_cfe1_11ea_a8bb_2b7a2f75b857level0_row4\" class=\"row_heading level0 row4\" >13895</th>\n",
       "                        <td id=\"T_14c8d186_cfe1_11ea_a8bb_2b7a2f75b857row4_col0\" class=\"data row4 col0\" >Quel contrôle peut-on conserver lorsque les données traverses les frontières?</td>\n",
       "                        <td id=\"T_14c8d186_cfe1_11ea_a8bb_2b7a2f75b857row4_col1\" class=\"data row4 col1\" >What control does one have when data crosses the border?</td>\n",
       "            </tr>\n",
       "    </tbody></table>"
      ],
      "text/plain": [
       "<pandas.io.formats.style.Styler at 0x7f8abe6dbed0>"
      ]
     },
     "execution_count": 21,
     "metadata": {},
     "output_type": "execute_result"
    }
   ],
   "source": [
    "data.sample(5)[['fr', 'en']].style.set_properties(subset=['fr', 'en'], **{'width': '300px'})"
   ]
  },
  {
   "cell_type": "code",
   "execution_count": 29,
   "metadata": {
    "ExecuteTime": {
     "end_time": "2020-05-22T04:13:26.212097Z",
     "start_time": "2020-05-22T04:13:26.006457Z"
    }
   },
   "outputs": [],
   "source": [
    "!jupyter nbextension enable --py widgetsnbextension --sys-prefix"
   ]
  },
  {
   "cell_type": "code",
   "execution_count": 14,
   "metadata": {
    "ExecuteTime": {
     "end_time": "2020-08-05T05:21:23.570892Z",
     "start_time": "2020-08-05T05:21:23.441140Z"
    },
    "init_cell": true
   },
   "outputs": [],
   "source": [
    "# lowercase\n",
    "data['en'] = data['en'].apply(lambda x:x.lower())\n",
    "data['fr'] = data['fr'].apply(lambda x:x.lower())"
   ]
  },
  {
   "cell_type": "markdown",
   "metadata": {},
   "source": [
    "### create a Seq2SeqTextList (Fastai's datablock api)"
   ]
  },
  {
   "cell_type": "code",
   "execution_count": 15,
   "metadata": {
    "ExecuteTime": {
     "end_time": "2020-08-05T05:21:30.988000Z",
     "start_time": "2020-08-05T05:21:23.572452Z"
    },
    "init_cell": true
   },
   "outputs": [
    {
     "data": {
      "text/html": [],
      "text/plain": [
       "<IPython.core.display.HTML object>"
      ]
     },
     "metadata": {},
     "output_type": "display_data"
    },
    {
     "name": "stderr",
     "output_type": "stream",
     "text": [
      "/home/santhosh/miniconda3/envs/CapGen/lib/python3.6/site-packages/fastai/core.py:302: VisibleDeprecationWarning: Creating an ndarray from ragged nested sequences (which is a list-or-tuple of lists-or-tuples-or ndarrays with different lengths or shapes) is deprecated. If you meant to do this, you must specify 'dtype=object' when creating the ndarray\n",
      "  return np.array(a, dtype=dtype, **kwargs)\n"
     ]
    },
    {
     "data": {
      "text/html": [],
      "text/plain": [
       "<IPython.core.display.HTML object>"
      ]
     },
     "metadata": {},
     "output_type": "display_data"
    },
    {
     "data": {
      "text/html": [],
      "text/plain": [
       "<IPython.core.display.HTML object>"
      ]
     },
     "metadata": {},
     "output_type": "display_data"
    },
    {
     "data": {
      "text/html": [],
      "text/plain": [
       "<IPython.core.display.HTML object>"
      ]
     },
     "metadata": {},
     "output_type": "display_data"
    }
   ],
   "source": [
    "# text list with 'fr' column as label  and split list randomly (0.8) \n",
    "src = (Seq2SeqTextList.from_df(data, path = path, cols='fr')\n",
    "       .split_by_rand_pct(seed=42)\n",
    "       .label_from_df(cols='en',label_cls=TextList))"
   ]
  },
  {
   "cell_type": "code",
   "execution_count": 16,
   "metadata": {
    "ExecuteTime": {
     "end_time": "2020-08-05T05:21:31.024751Z",
     "start_time": "2020-08-05T05:21:30.989100Z"
    },
    "init_cell": true
   },
   "outputs": [],
   "source": [
    "src = src.filter_by_func(lambda x,y: len(x) > 30 or len(y) > 30)"
   ]
  },
  {
   "cell_type": "markdown",
   "metadata": {},
   "source": [
    "### Model initialize"
   ]
  },
  {
   "cell_type": "code",
   "execution_count": 17,
   "metadata": {
    "ExecuteTime": {
     "end_time": "2020-08-05T05:21:32.959916Z",
     "start_time": "2020-08-05T05:21:31.025670Z"
    },
    "init_cell": true
   },
   "outputs": [
    {
     "name": "stderr",
     "output_type": "stream",
     "text": [
      "/home/santhosh/miniconda3/envs/CapGen/lib/python3.6/site-packages/numpy/core/_asarray.py:83: VisibleDeprecationWarning: Creating an ndarray from ragged nested sequences (which is a list-or-tuple of lists-or-tuples-or ndarrays with different lengths or shapes) is deprecated. If you meant to do this, you must specify 'dtype=object' when creating the ndarray\n",
      "  return array(a, dtype, copy=False, order=order)\n",
      "<string>:6: VisibleDeprecationWarning: Creating an ndarray from ragged nested sequences (which is a list-or-tuple of lists-or-tuples-or ndarrays with different lengths or shapes) is deprecated. If you meant to do this, you must specify 'dtype=object' when creating the ndarray\n"
     ]
    }
   ],
   "source": [
    "from modules.model import *  # BERT\n",
    "from modules.callbacks import *\n",
    "from transformer.model import Translation\n",
    "\n",
    "en_emb = torch.load('models/en_emb.pth')\n",
    "fr_emb = torch.load('models/fr_emb.pth')\n",
    "\n",
    "databunch = src.databunch()\n",
    "databunch.batch_size = 64\n",
    "\n",
    "\n",
    "#model = make_model(len(fr_stoi), len(en_stoi), N=6, h = 6, d_model=300,src_embedding = None,tar_embedding = None).to(device);\n",
    "model = Translation(src_vocab_size=len(fr_stoi),\n",
    "    tgt_vocab_size=len(en_stoi),\n",
    "    d_model=300, d_ff=2048,\n",
    "    d_k=64, d_v=64, n_heads=6, \n",
    "    n_layers=6, src_pad_index=1,\n",
    "    tgt_pad_index=1, device=device)\n"
   ]
  },
  {
   "cell_type": "code",
   "execution_count": 26,
   "metadata": {
    "ExecuteTime": {
     "end_time": "2020-06-13T04:16:06.968618Z",
     "start_time": "2020-06-13T04:16:06.952009Z"
    }
   },
   "outputs": [
    {
     "data": {
      "text/plain": [
       "{'src_vocab_size': 22188,\n",
       " 'tgt_vocab_size': 14236,\n",
       " 'd_model': 300,\n",
       " 'd_ff': 2048,\n",
       " 'd_k': 64,\n",
       " 'd_v': 64,\n",
       " 'n_heads': 6,\n",
       " 'n_layers': 6,\n",
       " 'src_pad_index': 1,\n",
       " 'tgt_pad_index': 1,\n",
       " 'device': device(type='cuda')}"
      ]
     },
     "execution_count": 26,
     "metadata": {},
     "output_type": "execute_result"
    }
   ],
   "source": [
    "dict(src_vocab_size=len(fr_stoi),\n",
    "    tgt_vocab_size=len(en_stoi),\n",
    "    d_model=300, d_ff=2048,\n",
    "    d_k=64, d_v=64, n_heads=6, \n",
    "    n_layers=6, src_pad_index=1,\n",
    "    tgt_pad_index=1, device=device)"
   ]
  },
  {
   "cell_type": "markdown",
   "metadata": {
    "heading_collapsed": true
   },
   "source": [
    "### Fastai - with CrossEntropyLoss"
   ]
  },
  {
   "cell_type": "code",
   "execution_count": 18,
   "metadata": {
    "ExecuteTime": {
     "end_time": "2020-08-05T05:21:32.977952Z",
     "start_time": "2020-08-05T05:21:32.960772Z"
    },
    "hidden": true,
    "init_cell": true
   },
   "outputs": [],
   "source": [
    "def CrossEntropy_loss(input,targets):\n",
    "    pred,_,_,_,decode_lengths = input\n",
    "    x,y = pred.contiguous().view(-1, pred.size(-1)), targets.contiguous().view(-1)\n",
    "    loss = nn.CrossEntropyLoss().to(device)(F.log_softmax(x, dim=-1), y)\n",
    "    return  loss #loss(pred.data.long(), targets.data.long())\n"
   ]
  },
  {
   "cell_type": "code",
   "execution_count": 27,
   "metadata": {
    "ExecuteTime": {
     "end_time": "2020-07-01T16:56:28.698814Z",
     "start_time": "2020-07-01T16:56:28.616475Z"
    },
    "hidden": true
   },
   "outputs": [],
   "source": [
    "from modules.callbacks import *\n",
    "opt_fn = partial(optim.Adam, betas=(0.9, 0.98))\n",
    "\n",
    "#criterion = LabelSmoothing(len(en_itos), 1, 0.1).to(device)\n",
    "\n",
    "#learn = Learner(dataBunch,arch,loss_func= loss_func,opt_func=opt_fn, metrics=[topK_accuracy,BleuMetric(metadata,vocab)],callback_fns=[ShowGraph]) #,TeacherForcingTurnOff,TeacherForcingCallback\n",
    "\n",
    "\n",
    "# Fatai Learner object\n",
    "learn_CEL = Learner(databunch,model,loss_func=CrossEntropy_loss,wd=0.1, metrics=[seq2seq_acc, CorpusBLEU(len(en_itos))],callback_fns=[ShowGraph]) #,TeacherForcingTurnOff,TeacherForcingCallbacklearn = "
   ]
  },
  {
   "cell_type": "markdown",
   "metadata": {},
   "source": [
    "#### Learning rate finder"
   ]
  },
  {
   "cell_type": "code",
   "execution_count": 19,
   "metadata": {
    "ExecuteTime": {
     "end_time": "2020-07-01T16:33:02.751747Z",
     "start_time": "2020-07-01T16:32:45.880112Z"
    },
    "hidden": true
   },
   "outputs": [
    {
     "data": {
      "text/html": [
       "\n",
       "    <div>\n",
       "        <style>\n",
       "            /* Turns off some styling */\n",
       "            progress {\n",
       "                /* gets rid of default border in Firefox and Opera. */\n",
       "                border: none;\n",
       "                /* Needs to be in here for Safari polyfill so background images work as expected. */\n",
       "                background-size: auto;\n",
       "            }\n",
       "            .progress-bar-interrupted, .progress-bar-interrupted::-webkit-progress-bar {\n",
       "                background: #F44336;\n",
       "            }\n",
       "        </style>\n",
       "      <progress value='0' class='' max='1', style='width:300px; height:20px; vertical-align: middle;'></progress>\n",
       "      0.00% [0/1 00:00<00:00]\n",
       "    </div>\n",
       "    \n",
       "<table border=\"1\" class=\"dataframe\">\n",
       "  <thead>\n",
       "    <tr style=\"text-align: left;\">\n",
       "      <th>epoch</th>\n",
       "      <th>train_loss</th>\n",
       "      <th>valid_loss</th>\n",
       "      <th>seq2seq_acc</th>\n",
       "      <th>bleu_metric</th>\n",
       "      <th>time</th>\n",
       "    </tr>\n",
       "  </thead>\n",
       "  <tbody>\n",
       "  </tbody>\n",
       "</table><p>\n",
       "\n",
       "    <div>\n",
       "        <style>\n",
       "            /* Turns off some styling */\n",
       "            progress {\n",
       "                /* gets rid of default border in Firefox and Opera. */\n",
       "                border: none;\n",
       "                /* Needs to be in here for Safari polyfill so background images work as expected. */\n",
       "                background-size: auto;\n",
       "            }\n",
       "            .progress-bar-interrupted, .progress-bar-interrupted::-webkit-progress-bar {\n",
       "                background: #F44336;\n",
       "            }\n",
       "        </style>\n",
       "      <progress value='89' class='' max='435', style='width:300px; height:20px; vertical-align: middle;'></progress>\n",
       "      20.46% [89/435 00:16<01:02 20.2933]\n",
       "    </div>\n",
       "    "
      ],
      "text/plain": [
       "<IPython.core.display.HTML object>"
      ]
     },
     "metadata": {},
     "output_type": "display_data"
    },
    {
     "name": "stdout",
     "output_type": "stream",
     "text": [
      "LR Finder is complete, type {learner_name}.recorder.plot() to see the graph.\n",
      "Min numerical gradient: 3.02E-05\n",
      "Min loss divided by 10: 1.20E-02\n"
     ]
    },
    {
     "data": {
      "image/png": "[encoded data removed]",
      "text/plain": [
       "<Figure size 432x288 with 1 Axes>"
      ]
     },
     "metadata": {
      "needs_background": "light"
     },
     "output_type": "display_data"
    }
   ],
   "source": [
    "learn_CEL.lr_find()\n",
    "learn_CEL.recorder.plot(suggestion=True)"
   ]
  },
  {
   "cell_type": "markdown",
   "metadata": {},
   "source": [
    "#### training epochs"
   ]
  },
  {
   "cell_type": "code",
   "execution_count": 28,
   "metadata": {
    "ExecuteTime": {
     "end_time": "2020-07-01T17:11:48.973219Z",
     "start_time": "2020-07-01T16:56:32.666300Z"
    },
    "hidden": true
   },
   "outputs": [
    {
     "data": {
      "text/html": [
       "<table border=\"1\" class=\"dataframe\">\n",
       "  <thead>\n",
       "    <tr style=\"text-align: left;\">\n",
       "      <th>epoch</th>\n",
       "      <th>train_loss</th>\n",
       "      <th>valid_loss</th>\n",
       "      <th>seq2seq_acc</th>\n",
       "      <th>bleu</th>\n",
       "      <th>time</th>\n",
       "    </tr>\n",
       "  </thead>\n",
       "  <tbody>\n",
       "    <tr>\n",
       "      <td>0</td>\n",
       "      <td>2.456067</td>\n",
       "      <td>2.653436</td>\n",
       "      <td>0.612640</td>\n",
       "      <td>0.433706</td>\n",
       "      <td>01:28</td>\n",
       "    </tr>\n",
       "    <tr>\n",
       "      <td>1</td>\n",
       "      <td>2.041358</td>\n",
       "      <td>2.261911</td>\n",
       "      <td>0.642574</td>\n",
       "      <td>0.462979</td>\n",
       "      <td>01:28</td>\n",
       "    </tr>\n",
       "    <tr>\n",
       "      <td>2</td>\n",
       "      <td>1.675195</td>\n",
       "      <td>1.926699</td>\n",
       "      <td>0.680742</td>\n",
       "      <td>0.488075</td>\n",
       "      <td>01:28</td>\n",
       "    </tr>\n",
       "    <tr>\n",
       "      <td>3</td>\n",
       "      <td>1.384582</td>\n",
       "      <td>1.713956</td>\n",
       "      <td>0.702641</td>\n",
       "      <td>0.511958</td>\n",
       "      <td>01:31</td>\n",
       "    </tr>\n",
       "    <tr>\n",
       "      <td>4</td>\n",
       "      <td>1.127888</td>\n",
       "      <td>1.588813</td>\n",
       "      <td>0.723198</td>\n",
       "      <td>0.536749</td>\n",
       "      <td>01:33</td>\n",
       "    </tr>\n",
       "    <tr>\n",
       "      <td>5</td>\n",
       "      <td>0.813250</td>\n",
       "      <td>1.529009</td>\n",
       "      <td>0.734520</td>\n",
       "      <td>0.553977</td>\n",
       "      <td>01:37</td>\n",
       "    </tr>\n",
       "    <tr>\n",
       "      <td>6</td>\n",
       "      <td>0.497641</td>\n",
       "      <td>1.541128</td>\n",
       "      <td>0.743082</td>\n",
       "      <td>0.570197</td>\n",
       "      <td>01:32</td>\n",
       "    </tr>\n",
       "    <tr>\n",
       "      <td>7</td>\n",
       "      <td>0.262595</td>\n",
       "      <td>1.580004</td>\n",
       "      <td>0.747232</td>\n",
       "      <td>0.581183</td>\n",
       "      <td>01:31</td>\n",
       "    </tr>\n",
       "    <tr>\n",
       "      <td>8</td>\n",
       "      <td>0.140268</td>\n",
       "      <td>1.620333</td>\n",
       "      <td>0.750187</td>\n",
       "      <td>0.587652</td>\n",
       "      <td>01:31</td>\n",
       "    </tr>\n",
       "    <tr>\n",
       "      <td>9</td>\n",
       "      <td>0.086930</td>\n",
       "      <td>1.639049</td>\n",
       "      <td>0.750771</td>\n",
       "      <td>0.589219</td>\n",
       "      <td>01:32</td>\n",
       "    </tr>\n",
       "  </tbody>\n",
       "</table>"
      ],
      "text/plain": [
       "<IPython.core.display.HTML object>"
      ]
     },
     "metadata": {},
     "output_type": "display_data"
    },
    {
     "data": {
      "image/png": "[encoded data removed]",
      "text/plain": [
       "<Figure size 432x288 with 1 Axes>"
      ]
     },
     "metadata": {},
     "output_type": "display_data"
    }
   ],
   "source": [
    "learn_CEL.fit_one_cycle(10, 5e-4, div_factor=5)"
   ]
  },
  {
   "cell_type": "code",
   "execution_count": 18,
   "metadata": {
    "ExecuteTime": {
     "end_time": "2020-06-22T17:55:57.169355Z",
     "start_time": "2020-06-22T17:55:55.635574Z"
    },
    "hidden": true
   },
   "outputs": [],
   "source": [
    "# export model \n",
    "learn_CEL.export()"
   ]
  }
 ],
 "metadata": {
  "celltoolbar": "Initialization Cell",
  "kernelspec": {
   "display_name": "CapGen",
   "language": "python",
   "name": "capgen"
  },
  "language_info": {
   "codemirror_mode": {
    "name": "ipython",
    "version": 3
   },
   "file_extension": ".py",
   "mimetype": "text/x-python",
   "name": "python",
   "nbconvert_exporter": "python",
   "pygments_lexer": "ipython3",
   "version": "3.6.10"
  },
  "toc": {
   "base_numbering": 1,
   "nav_menu": {},
   "number_sections": true,
   "sideBar": true,
   "skip_h1_title": false,
   "title_cell": "Table of Contents",
   "title_sidebar": "Contents",
   "toc_cell": false,
   "toc_position": {
    "height": "calc(100% - 180px)",
    "left": "10px",
    "top": "150px",
    "width": "293.292px"
   },
   "toc_section_display": true,
   "toc_window_display": false
  },
  "varInspector": {
   "cols": {
    "lenName": 16,
    "lenType": 16,
    "lenVar": 40
   },
   "kernels_config": {
    "python": {
     "delete_cmd_postfix": "",
     "delete_cmd_prefix": "del ",
     "library": "var_list.py",
     "varRefreshCmd": "print(var_dic_list())"
    },
    "r": {
     "delete_cmd_postfix": ") ",
     "delete_cmd_prefix": "rm(",
     "library": "var_list.r",
     "varRefreshCmd": "cat(var_dic_list()) "
    }
   },
   "types_to_exclude": [
    "module",
    "function",
    "builtin_function_or_method",
    "instance",
    "_Feature"
   ],
   "window_display": false
  }
 },
 "nbformat": 4,
 "nbformat_minor": 4
}
